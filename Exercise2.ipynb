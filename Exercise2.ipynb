{
  "nbformat": 4,
  "nbformat_minor": 0,
  "metadata": {
    "colab": {
      "provenance": [],
      "authorship_tag": "ABX9TyNhgpUkgX4/YtQT8DM1PeC3",
      "include_colab_link": true
    },
    "kernelspec": {
      "name": "python3",
      "display_name": "Python 3"
    },
    "language_info": {
      "name": "python"
    }
  },
  "cells": [
    {
      "cell_type": "markdown",
      "metadata": {
        "id": "view-in-github",
        "colab_type": "text"
      },
      "source": [
        "<a href=\"https://colab.research.google.com/github/Thachhcmute3001/AI/blob/main/Exercise2.ipynb\" target=\"_parent\"><img src=\"https://colab.research.google.com/assets/colab-badge.svg\" alt=\"Open In Colab\"/></a>"
      ]
    },
    {
      "cell_type": "code",
      "execution_count": 2,
      "metadata": {
        "colab": {
          "base_uri": "https://localhost:8080/"
        },
        "id": "sKAoSaQBp__R",
        "outputId": "2be97461-2e85-4da5-f513-f3d3acfcbd3c"
      },
      "outputs": [
        {
          "output_type": "stream",
          "name": "stdout",
          "text": [
            "Sport\n",
            "Biathlon       162\n",
            "Bobsleigh      133\n",
            "Curling         21\n",
            "Ice Hockey      69\n",
            "Luge           108\n",
            "Skating        758\n",
            "Skiing        1060\n",
            "Name: Medal, dtype: int64\n",
            "---------------\n",
            "16\n",
            "---------------\n",
            "Medal\n",
            "Bronze    764\n",
            "Gold      774\n",
            "Silver    773\n",
            "Name: Medal, dtype: int64\n"
          ]
        }
      ],
      "source": [
        "import pandas as pd\n",
        "import numpy as np\n",
        "url = 'http://winterolympicsmedals.com/medals.csv'\n",
        "dataframe = pd.read_csv(url)\n",
        "#Exercise\n",
        "'''\n",
        "Ex1: Tìm số lượng huy chương của một mục bất kì\n",
        "Ex2: Tìm số huy chương vàng theo môn thi cá nhân của một nước\n",
        "Ex3: Loc ra các thể loại huy chương, tính mean, tính tổng....\n",
        "'''\n",
        "#Bài 1\n",
        "ex1 = dataframe.groupby(['Sport'])['Medal'].count()\n",
        "print(ex1)\n",
        "print(\"---------------\")\n",
        "#Bài 2\n",
        "ex2 = dataframe[((dataframe['Medal'] == 'Gold') & (dataframe['NOC'] == 'USA') & (dataframe['Event'] == 'individual'))]['Medal'].count()\n",
        "print(ex2)\n",
        "print(\"---------------\")\n",
        "#Bài 3\n",
        "ex3 = dataframe.groupby(['Medal'])['Medal'].count()\n",
        "sum = (dataframe.groupby(['Medal'])['Medal'].count()).sum()\n",
        "mean = (dataframe.groupby(['Medal'])['Medal'].count()).mean()\n",
        "max = (dataframe.groupby(['Medal'])['Medal'].count()).max()\n",
        "min = (dataframe.groupby(['Medal'])['Medal'].count()).min()\n",
        "print(ex3)"
      ]
    }
  ]
}