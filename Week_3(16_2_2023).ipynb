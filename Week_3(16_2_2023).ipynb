{
  "nbformat": 4,
  "nbformat_minor": 0,
  "metadata": {
    "colab": {
      "provenance": [],
      "mount_file_id": "18oVJuKTdr4vatqEBE4_WB178hiuG248j",
      "authorship_tag": "ABX9TyM2QNckuEHh77VDWL+Q+ft7",
      "include_colab_link": true
    },
    "kernelspec": {
      "name": "python3",
      "display_name": "Python 3"
    },
    "language_info": {
      "name": "python"
    }
  },
  "cells": [
    {
      "cell_type": "markdown",
      "metadata": {
        "id": "view-in-github",
        "colab_type": "text"
      },
      "source": [
        "<a href=\"https://colab.research.google.com/github/Thachhcmute3001/AI/blob/main/Week3(16_2_2023).ipynb\" target=\"_parent\"><img src=\"https://colab.research.google.com/assets/colab-badge.svg\" alt=\"Open In Colab\"/></a>"
      ]
    },
    {
      "cell_type": "code",
      "execution_count": null,
      "metadata": {
        "id": "0Vrd_UrGyhTo",
        "colab": {
          "base_uri": "https://localhost:8080/"
        },
        "outputId": "48d11c09-1b60-459e-9ac7-730a07b852dc"
      },
      "outputs": [
        {
          "output_type": "stream",
          "name": "stdout",
          "text": [
            "<_io.TextIOWrapper name='text.txt' mode='w' encoding='UTF-8'>\n"
          ]
        }
      ],
      "source": [
        "with open (\"text.txt\", mode = \"w\") as accounts:\n",
        "  accounts.write('20146530 Nguyen Ba Vu Thach 8.0\\n')\n",
        "  accounts.write('20146127 Tran Ngoc Hieu 9.5\\n')\n",
        "  accounts.write('20146146 Pham Thanh Toan 9.0\\n')\n",
        "  accounts.write('20141234 Tran Van Thuong 8.0\\n')\n",
        "  accounts.write('20144444 Pham Van On 2.5\\n')\n",
        "  accounts.write('20146146 Thanh Van Nho 5.5\\n')\n",
        "  accounts.write('20144567 Tran Du Lich 5.9\\n')\n",
        "  accounts.write('20148590 Dang Thanh Hung 4.\\n')\n",
        "  accounts.write('20146146 Hai Van Huoc 9.5\\n')\n",
        "  accounts.write('20141290 Vu Thi Nu 8.4\\n')\n",
        "  accounts.write('20143489 Than Van Dang 9.5\\n')\n",
        "  accounts.write('20143194 Dang Van Thuong 10.0\\n')"
      ]
    },
    {
      "cell_type": "code",
      "source": [
        "with open(\"text1.txt\", mode = \"w\") as accounts:\n",
        "  print('20146530 Nguyen Ba Vu Thach 80\\n', file = accounts)\n"
      ],
      "metadata": {
        "id": "TwVm7pyW1Ow_"
      },
      "execution_count": null,
      "outputs": []
    },
    {
      "cell_type": "code",
      "source": [
        "with open(\"text.txt\", mode = \"r\") as accounts:\n",
        "  print(f'{{\"MSSV\": < 10}{\"Name\": < 20}{\"Score\": > 4}}')\n",
        "  for record in accounts:\n",
        "    mssv, name, score = record.split()\n",
        "    print(f'{mssv: < 10}{name: < 20}{score: > 4}')"
      ],
      "metadata": {
        "id": "tLxm6kxf4vfT"
      },
      "execution_count": null,
      "outputs": []
    },
    {
      "cell_type": "code",
      "source": [
        "import pandas as pd\n",
        "import numpy as np\n",
        "url = 'Text.csv'\n",
        "dataframe = pd.read_csv(url)\n",
        "#dataframe.head(20) #Show the rows\n",
        "#----------------#\n",
        "#dataframe.shape #Show the shape of the file\n",
        "#----------------#\n",
        "#dataframe.describe()\n",
        "#----------------#\n",
        "#dataframe.iloc[:6]\n",
        "#----------------#\n",
        "#frame = dataframe.set_index(dataframe[\"Ho va Ten\"])\n",
        "#frame.loc['Nguyen Van A']\n",
        "#----------------#\n",
        "#dataframe[dataframe['Diem'] == 2].head(10)\n",
        "#----------------#\n",
        "#dataframe[((dataframe['Khoa_'] == 19) & (dataframe['Diem'] > 4)) | ((dataframe['Khoa_'] == 18) & (dataframe['Diem'] > 1))]\n",
        "#----------------#\n",
        "#dataframe['Khoa_'].min()\n",
        "#dataframe['Khoa_'].max()\n",
        "#dataframe['Diem'].mean()\n",
        "#dataframe['Diem'].sum()\n",
        "#dataframe['Diem'].count()\n",
        "#dataframe['Khoa'].unique()\n",
        "#dataframe['Khoa'].value_counts()\n",
        "#-----------------# Erase column\n",
        "#dataframe.drop('Khoa', axis = 'columns').head(20)\n",
        "#-----------------# Erase multiple colums\n",
        "#dataframe.drop(['Khoa', 'Khoa_'],axis = 1).head(20)\n",
        "#-----------------#\n",
        "#dataframe.drop(dataframe.columns[2:5], axis = 1).head(20)\n",
        "#-----------------#\n",
        "#dataframe[dataframe['Khoa_'] != 19].head(20)\n",
        "#-----------------#\n",
        "#dataframe[dataframe['Khoa'] != 'CKM'].head(20)\n",
        "#-----------------#\n",
        "#dataframe[dataframe.index != 4].head(20)\n",
        "#-----------------#\n",
        "#dataframe.groupby('Khoa').head(20)\n",
        "#dataframe.groupby('Khoa_').count()\n",
        "#dataframe.groupby(['Khoa_', 'Khoa']).head(20)\n",
        "#dataframe.groupby(['Khoa_', 'Khoa']).count()\n",
        "#dataframe.groupby(['Khoa_', 'Khoa'])['Diem'].count()\n",
        "#-----------------#\n",
        "#time = pd.date_range('16/02/2023', periods = 100000, freq = '30s') #30s lay 1 mau, co tong cong 10000 ma^~u\n",
        "#dataframe = pd.DataFrame(index = time)\n",
        "#dataframe['Acess Amount'] = np.random.randint(1, 10, 100000)\n",
        "#dataframe.resample('w').sum()\n",
        "#-----------------#"
      ],
      "metadata": {
        "id": "ZtxoDBfu-uoL"
      },
      "execution_count": null,
      "outputs": []
    },
    {
      "cell_type": "code",
      "source": [
        "import pandas as pd\n",
        "import numpy as np\n",
        "url = 'http://winterolympicsmedals.com/medals.csv'\n",
        "dataframe = pd.read_csv(url)\n",
        "#Exercise\n",
        "'''\n",
        "Ex1: Tìm số lượng huy chương của một mục bất kì\n",
        "Ex2: Tìm số huy chương vàng theo môn thi cá nhân của một nước\n",
        "Ex3: Loc ra các thể loại huy chương, tính mean, tính tổng....\n",
        "'''\n",
        "#Bài 1\n",
        "ex1 = dataframe.groupby(['Sport'])['Medal'].count()\n",
        "print(ex1)\n",
        "#Bài 2\n",
        "ex2 = dataframe[((dataframe['Medal'] == 'Gold') & (dataframe['NOC'] == 'USA') & (dataframe['Event'] == 'individual'))]['Medal'].count()\n",
        "print(ex2)\n",
        "#Bài 3\n",
        "ex3 = dataframe.groupby(['Medal'])['Medal'].count()\n",
        "sum = (dataframe.groupby(['Medal'])['Medal'].count()).sum()\n",
        "mean = (dataframe.groupby(['Medal'])['Medal'].count()).mean()\n",
        "max = (dataframe.groupby(['Medal'])['Medal'].count()).max()\n",
        "min = (dataframe.groupby(['Medal'])['Medal'].count()).min()\n",
        "print(ex3)\n",
        "#----------------#\n",
        "#dataframe.groupby(['Khoa_', 'Khoa']).head(20)\n",
        "#----------------#\n",
        "#dataframe.head(20) #Show the rows from zeroth to nineteenth\n",
        "#----------------#\n",
        "#dataframe.shape #Show the shape of the file\n",
        "#----------------#\n",
        "#dataframe.describe()\n",
        "#----------------#\n",
        "#dataframe.iloc[:] #Show all the data\n",
        "#----------------#\n",
        "#frame = dataframe.set_index(dataframe[\"Event\"])\n",
        "#frame.loc['individual']\n",
        "#----------------#\n",
        "#dataframe[dataframe['City'] == 'Chamonix'].head(10)\n",
        "#----------------#\n",
        "#dataframe[((dataframe['Medal'] == 'Gold') & (dataframe['Event gender'] == 'M'))]\n",
        "#----------------#\n",
        "#dataframe['Year'].min()\n",
        "#dataframe['Year'].max()\n",
        "#dataframe['Year'].mean()\n",
        "#dataframe['Year'].sum()\n",
        "#dataframe['Event'].count() #Return the total of the columns of each specific column\n",
        "#dataframe['Year'].unique() #Return the represent value if it has more than 2 repetitive value\n",
        "#dataframe['Year'].value_counts() #Return a series containing counts of unique columns\n",
        "#-----------------# Erase column\n",
        "#dataframe.drop('Year', axis = 'columns').iloc[:] #Erase all the columns 'Year' and show all of the rest\n",
        "#-----------------# Erase multiple colums\n",
        "#dataframe.drop(['City', 'Sport'],axis = 1).iloc[:] //Erase all the columns 'City' and 'Sport' and show all of the rest\n",
        "#-----------------#\n",
        "#dataframe.drop(dataframe.columns[2:4], axis = 1).head(20) #Erase all the second columns to the third columns and show from zeroth to nineteenth row\n",
        "#-----------------#\n",
        "#dataframe[dataframe['Year'] != 1924].iloc[:] #Show all the rows apart from rows having \n",
        "#-----------------#\n",
        "#dataframe[dataframe['Khoa'] != 'CKM'].head(20)\n",
        "#-----------------#\n",
        "#dataframe[dataframe.index != 4].head(20)\n",
        "#-----------------#\n",
        "#dataframe.groupby('Khoa').head(20)\n",
        "#dataframe.groupby('Khoa_').count()\n",
        "#dataframe.groupby(['Khoa_', 'Khoa']).head(20)\n",
        "#dataframe.groupby(['Khoa_', 'Khoa']).count()\n",
        "#dataframe.groupby(['Khoa_', 'Khoa'])['Diem'].count()\n",
        "#-----------------#\n",
        "#time = pd.date_range('16/02/2023', periods = 100000, freq = '30s') #30s lay 1 mau, co tong cong 10000 ma^~u\n",
        "#dataframe = pd.DataFrame(index = time)\n",
        "#dataframe['Acess Amount'] = np.random.randint(1, 10, 100000)\n",
        "#dataframe.resample('w').sum()\n",
        "#-----------------#\n"
      ],
      "metadata": {
        "id": "q3aQ_890AMwR",
        "colab": {
          "base_uri": "https://localhost:8080/"
        },
        "outputId": "98c5ed49-074b-4fe1-c535-ead51c4b068a"
      },
      "execution_count": 121,
      "outputs": [
        {
          "output_type": "stream",
          "name": "stdout",
          "text": [
            "Medal\n",
            "Bronze    764\n",
            "Gold      774\n",
            "Silver    773\n",
            "Name: Medal, dtype: int64\n"
          ]
        }
      ]
    }
  ]
}
