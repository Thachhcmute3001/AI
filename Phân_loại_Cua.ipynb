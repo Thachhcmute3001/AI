{
  "nbformat": 4,
  "nbformat_minor": 0,
  "metadata": {
    "colab": {
      "provenance": [],
      "authorship_tag": "ABX9TyMewv3YI9/e7c7FDU2k6Qgb",
      "include_colab_link": true
    },
    "kernelspec": {
      "name": "python3",
      "display_name": "Python 3"
    },
    "language_info": {
      "name": "python"
    }
  },
  "cells": [
    {
      "cell_type": "markdown",
      "metadata": {
        "id": "view-in-github",
        "colab_type": "text"
      },
      "source": [
        "<a href=\"https://colab.research.google.com/github/Thachhcmute3001/AI/blob/main/Ph%C3%A2n_lo%E1%BA%A1i_Cua.ipynb\" target=\"_parent\"><img src=\"https://colab.research.google.com/assets/colab-badge.svg\" alt=\"Open In Colab\"/></a>"
      ]
    },
    {
      "cell_type": "code",
      "source": [
        "from sklearn.linear_model import Perceptron\n",
        "from sklearn import datasets\n",
        "from sklearn.model_selection import train_test_split\n",
        "#Không bao giờ được lấy dữ liệu đã train để test, sẽ xảy ra overfitting, hàm train_test_split để chia dữ liệu để train và để test\n",
        "from sklearn.metrics import accuracy_score\n",
        "from sklearn.preprocessing import StandardScaler #Các dữ liệu để train, nó không cùng đơn vị, nên phải scale về 1 đơn vị thống nhất"
      ],
      "metadata": {
        "id": "MHLIJ7W9DkmW"
      },
      "execution_count": 21,
      "outputs": []
    },
    {
      "cell_type": "code",
      "execution_count": 18,
      "metadata": {
        "id": "IbdtrYdm_f20"
      },
      "outputs": [],
      "source": [
        "import pandas as pd\n",
        "url = 'data_crab.csv'\n",
        "dataframe = pd.read_csv(url)"
      ]
    },
    {
      "cell_type": "code",
      "source": [
        "data_replace = dataframe.replace(['B', 'O', 'M', 'F'], [0,1,1,0])\n",
        "data = data_replace.drop('index', axis = 'columns')\n",
        "x = data.drop(['sp'], axis = 'columns')\n",
        "y = data.drop(['FL', 'RW', 'CL', 'CW', 'BD', 'sex'], axis = 'columns')\n"
      ],
      "metadata": {
        "id": "ZcRbiFTv_z8p"
      },
      "execution_count": 69,
      "outputs": []
    },
    {
      "cell_type": "code",
      "source": [
        "print(x[:5])\n",
        "print(\"----------------------------------------------------------\")\n",
        "print(y[:5])"
      ],
      "metadata": {
        "colab": {
          "base_uri": "https://localhost:8080/"
        },
        "id": "ges1sdCdE7J5",
        "outputId": "46fede1f-6d3d-430f-c203-3cb9fa4843c4"
      },
      "execution_count": 67,
      "outputs": [
        {
          "output_type": "stream",
          "name": "stdout",
          "text": [
            "['sex', 'FL', 'RW', 'CL', 'CW']\n",
            "----------------------------------------------------------\n",
            "   sp\n",
            "0   0\n",
            "1   0\n",
            "2   0\n",
            "3   0\n",
            "4   0\n"
          ]
        }
      ]
    },
    {
      "cell_type": "code",
      "source": [
        "#Train dữ liệu\n",
        "x_train, x_test, y_train, y_test = train_test_split(x,y, test_size = 0.3)\n",
        "sc = StandardScaler()\n",
        "sc.fit(x_train) #Học tỉ lệ\n",
        "x_train_std = sc.transform(x_train) \n",
        "x_test_std = sc.transform(x_test)\n",
        "print(x_train_std[:5])\n",
        "print(\"-------------------\")\n",
        "print(x_train[:5])\n",
        "print(\"-------------------\")\n",
        "print(y[:5])"
      ],
      "metadata": {
        "colab": {
          "base_uri": "https://localhost:8080/"
        },
        "id": "BrZywFgQHBMk",
        "outputId": "84fdc670-68c6-4f1e-cf1e-bf15661ec5f8"
      },
      "execution_count": 60,
      "outputs": [
        {
          "output_type": "stream",
          "name": "stdout",
          "text": [
            "[[ 0.89155583 -0.20219964 -0.73085908 -0.14656138 -0.05129261 -0.27783255]\n",
            " [-1.12163475 -1.54883288 -1.28998624 -1.5659983  -1.53569698 -1.53633665]\n",
            " [-1.12163475  1.23038891  1.58552489  1.1182834   1.05249526  1.03920662]\n",
            " [ 0.89155583  0.14162161 -0.37142019 -0.0200769  -0.19085199  0.16118051]\n",
            " [-1.12163475  0.65735349  1.42577427  0.76693763  0.78606371  0.89286894]]\n",
            "-------------------\n",
            "     sex    FL    RW    CL    CW    BD\n",
            "22     1  15.0  10.9  31.4  36.4  13.2\n",
            "57     0  10.3   9.5  21.3  24.7   8.9\n",
            "188    0  20.0  16.7  40.4  45.1  17.7\n",
            "123    1  16.2  11.8  32.3  35.3  14.7\n",
            "175    0  18.0  16.3  37.9  43.0  17.2\n",
            "-------------------\n",
            "   sp\n",
            "0   0\n",
            "1   0\n",
            "2   0\n",
            "3   0\n",
            "4   0\n"
          ]
        }
      ]
    },
    {
      "cell_type": "code",
      "source": [
        "model = Perceptron(max_iter = 3, eta0 = 0.1, random_state = 0)\n",
        "model.fit(x_train_std, y_train)\n",
        "y_pre = model.predict(x_test_std)\n",
        "print(y_pre)\n",
        "print(\"--------------------------------------------------------------\")\n",
        "print(y_test)\n",
        "print(\"--------------------------------------------------------------\")\n",
        "print(\"Model Accuracy:\", accuracy_score(y_test, y_pre)*100)"
      ],
      "metadata": {
        "colab": {
          "base_uri": "https://localhost:8080/"
        },
        "id": "XtK3hhrVHFzw",
        "outputId": "0dea00f4-72d8-4611-e116-b66a3102719c"
      },
      "execution_count": 61,
      "outputs": [
        {
          "output_type": "stream",
          "name": "stdout",
          "text": [
            "[1 0 0 1 1 1 1 1 1 0 0 1 1 1 0 0 1 1 0 1 0 1 1 1 0 1 1 0 0 1 1 0 0 1 0 1 1\n",
            " 0 1 0 0 0 1 0 0 0 0 0 1 1 1 0 1 1 1 1 0 0 1 0]\n",
            "--------------------------------------------------------------\n",
            "     sp\n",
            "189   1\n",
            "13    0\n",
            "77    0\n",
            "176   1\n",
            "130   1\n",
            "143   1\n",
            "173   1\n",
            "186   1\n",
            "106   1\n",
            "54    0\n",
            "73    0\n",
            "128   1\n",
            "167   1\n",
            "102   1\n",
            "86    0\n",
            "41    0\n",
            "180   1\n",
            "152   1\n",
            "84    0\n",
            "162   1\n",
            "9     0\n",
            "179   1\n",
            "103   1\n",
            "138   1\n",
            "82    0\n",
            "122   1\n",
            "183   1\n",
            "32    0\n",
            "87    0\n",
            "101   1\n",
            "194   1\n",
            "85    0\n",
            "75    0\n",
            "153   1\n",
            "69    0\n",
            "131   1\n",
            "141   1\n",
            "50    0\n",
            "161   1\n",
            "94    0\n",
            "117   1\n",
            "59    0\n",
            "151   1\n",
            "11    0\n",
            "55    0\n",
            "53    0\n",
            "29    0\n",
            "35    0\n",
            "164   1\n",
            "190   1\n",
            "115   1\n",
            "81    0\n",
            "191   1\n",
            "139   1\n",
            "187   1\n",
            "113   1\n",
            "51    0\n",
            "98    0\n",
            "157   1\n",
            "90    0\n",
            "--------------------------------------------------------------\n",
            "Model Accuracy: 98.33333333333333\n"
          ]
        },
        {
          "output_type": "stream",
          "name": "stderr",
          "text": [
            "/usr/local/lib/python3.9/dist-packages/sklearn/utils/validation.py:1143: DataConversionWarning: A column-vector y was passed when a 1d array was expected. Please change the shape of y to (n_samples, ), for example using ravel().\n",
            "  y = column_or_1d(y, warn=True)\n",
            "/usr/local/lib/python3.9/dist-packages/sklearn/linear_model/_stochastic_gradient.py:702: ConvergenceWarning: Maximum number of iteration reached before convergence. Consider increasing max_iter to improve the fit.\n",
            "  warnings.warn(\n"
          ]
        }
      ]
    },
    {
      "cell_type": "code",
      "source": [],
      "metadata": {
        "id": "wfrxv56DH9RP"
      },
      "execution_count": null,
      "outputs": []
    }
  ]
}